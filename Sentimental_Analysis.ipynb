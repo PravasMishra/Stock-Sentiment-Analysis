{
  "cells": [
    {
      "cell_type": "code",
      "source": [
        "import pandas as pd\n",
        "import re\n",
        "from textblob import TextBlob\n",
        "from sklearn.feature_extraction.text import TfidfVectorizer\n",
        "from sklearn.model_selection import train_test_split\n",
        "from sklearn.linear_model import LogisticRegression\n",
        "from sklearn.metrics import accuracy_score, classification_report"
      ],
      "metadata": {
        "id": "qZdPo93zJdff"
      },
      "execution_count": null,
      "outputs": []
    },
    {
      "cell_type": "code",
      "source": [
        "# Load the dataset\n",
        "data = pd.read_csv('Data.csv', encoding='latin1')"
      ],
      "metadata": {
        "id": "90XKV7cfJlHs"
      },
      "execution_count": null,
      "outputs": []
    },
    {
      "cell_type": "code",
      "source": [
        "# Combine the headline columns into a single text column\n",
        "data['Combined_Headlines'] = data.apply(lambda row: ' '.join(row[['Top1', 'Top2', 'Top3', 'Top4', 'Top5', 'Top6', 'Top7', 'Top8', 'Top9', 'Top10',\n",
        "                                                                  'Top11', 'Top12', 'Top13', 'Top14', 'Top15', 'Top16', 'Top17', 'Top18', 'Top19',\n",
        "                                                                  'Top20', 'Top21', 'Top22', 'Top23', 'Top24', 'Top25']].astype(str)), axis=1)"
      ],
      "metadata": {
        "id": "hLmKTIlTJtAH"
      },
      "execution_count": null,
      "outputs": []
    },
    {
      "cell_type": "code",
      "source": [
        "# Clean text function\n",
        "def clean_text(text):\n",
        "    text = re.sub(r'[^A-Za-z0-9 ]+', '', text)  # Remove non-alphanumeric characters\n",
        "    text = text.lower()  # Convert to lowercase\n",
        "    return text\n",
        "\n",
        "# Apply text cleaning\n",
        "data['Cleaned_Headlines'] = data['Combined_Headlines'].apply(clean_text)"
      ],
      "metadata": {
        "id": "7GGbr5gMJ4y4"
      },
      "execution_count": null,
      "outputs": []
    },
    {
      "cell_type": "code",
      "source": [
        "# Function to get TextBlob sentiment scores\n",
        "def get_textblob_sentiment(text):\n",
        "    analysis = TextBlob(text)\n",
        "    return analysis.sentiment.polarity\n",
        "\n",
        "# Get TextBlob sentiment scores\n",
        "data['textblob_sentiment'] = data['Cleaned_Headlines'].apply(get_textblob_sentiment)"
      ],
      "metadata": {
        "id": "kPKM208iJ_mH"
      },
      "execution_count": null,
      "outputs": []
    },
    {
      "cell_type": "code",
      "source": [
        "# Prepare data for ML model\n",
        "tfidf = TfidfVectorizer(max_features=1000)  # Limit to top 1000 features\n",
        "X = tfidf.fit_transform(data['Cleaned_Headlines'])\n",
        "y = data['Label']"
      ],
      "metadata": {
        "id": "tpXsp9aXKFIb"
      },
      "execution_count": null,
      "outputs": []
    },
    {
      "cell_type": "code",
      "source": [
        "# Split data into training and testing sets\n",
        "X_train, X_test, y_train, y_test = train_test_split(X, y, test_size=0.2, random_state=42)"
      ],
      "metadata": {
        "id": "GR6MPPu8KJ3W"
      },
      "execution_count": null,
      "outputs": []
    },
    {
      "cell_type": "code",
      "source": [
        "# Train logistic regression model\n",
        "model = LogisticRegression()\n",
        "model.fit(X_train, y_train)\n",
        "\n",
        "# Predict on the test set\n",
        "y_pred = model.predict(X_test)\n",
        "\n",
        "# Evaluate the model\n",
        "accuracy = accuracy_score(y_test, y_pred)\n",
        "classification_report_output = classification_report(y_test, y_pred)\n",
        "\n",
        "print(\"Accuracy:\", accuracy)\n",
        "print(\"Classification Report:\\n\", classification_report_output)\n"
      ],
      "metadata": {
        "id": "tnuJaeOWHNo3",
        "outputId": "ff99b23a-638d-404d-9005-7c1559e6d008",
        "colab": {
          "base_uri": "https://localhost:8080/"
        }
      },
      "execution_count": 18,
      "outputs": [
        {
          "output_type": "stream",
          "name": "stdout",
          "text": [
            "Accuracy: 0.4993909866017052\n",
            "Classification Report:\n",
            "               precision    recall  f1-score   support\n",
            "\n",
            "           0       0.44      0.40      0.42       372\n",
            "           1       0.54      0.58      0.56       449\n",
            "\n",
            "    accuracy                           0.50       821\n",
            "   macro avg       0.49      0.49      0.49       821\n",
            "weighted avg       0.50      0.50      0.50       821\n",
            "\n"
          ]
        }
      ]
    }
  ],
  "metadata": {
    "colab": {
      "name": "Welcome to Colaboratory",
      "provenance": []
    },
    "kernelspec": {
      "display_name": "Python 3",
      "name": "python3"
    }
  },
  "nbformat": 4,
  "nbformat_minor": 0
}